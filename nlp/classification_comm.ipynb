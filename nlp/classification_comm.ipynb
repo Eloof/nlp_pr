{
 "cells": [
  {
   "cell_type": "markdown",
   "metadata": {},
   "source": [
    "# Проект для «Викишоп»"
   ]
  },
  {
   "cell_type": "markdown",
   "metadata": {},
   "source": [
    "**Введение**\n",
    "\n",
    "Интернет-магазин «Викишоп» запускает новый сервис. Теперь пользователи могут редактировать и дополнять описания товаров, как в вики-сообществах. То есть клиенты предлагают свои правки и комментируют изменения других. Магазину нужен инструмент, который будет искать токсичные комментарии и отправлять их на модерацию."
   ]
  },
  {
   "cell_type": "markdown",
   "metadata": {},
   "source": [
    "**Описание данные**\n",
    "\n",
    "Данные находятся в файле `/datasets/toxic_comments.csv`. Столбец `text` в нём содержит текст комментария, а `toxic` — целевой признак"
   ]
  },
  {
   "cell_type": "markdown",
   "metadata": {},
   "source": [
    "**Ход работы**\n",
    "\n",
    "1. Загрузка и подготовка данных\n",
    "2. Обучение разных моделей\n",
    "3. Вывод"
   ]
  },
  {
   "cell_type": "markdown",
   "metadata": {},
   "source": [
    "## Загрузка и подготовка данных"
   ]
  },
  {
   "cell_type": "markdown",
   "metadata": {},
   "source": [
    "### Загрузка и анализ данных"
   ]
  },
  {
   "cell_type": "markdown",
   "metadata": {},
   "source": [
    "Подключим необходимые библиотеки."
   ]
  },
  {
   "cell_type": "code",
   "execution_count": 3,
   "metadata": {
    "ExecuteTime": {
     "end_time": "2023-05-03T11:48:24.415860Z",
     "start_time": "2023-05-03T11:48:21.862507Z"
    }
   },
   "outputs": [
    {
     "name": "stderr",
     "output_type": "stream",
     "text": [
      "[nltk_data] Downloading package stopwords to\n",
      "[nltk_data]     /home/anatoly/nltk_data...\n",
      "[nltk_data]   Package stopwords is already up-to-date!\n"
     ]
    }
   ],
   "source": [
    "import pandas as pd\n",
    "import numpy as np\n",
    "import re\n",
    "import seaborn as sns\n",
    "import matplotlib.pyplot as plt\n",
    "\n",
    "import nltk\n",
    "nltk.download('stopwords')\n",
    "from nltk.corpus import stopwords\n",
    "stops = set(stopwords.words('english'))\n",
    "\n",
    "from sklearn.utils import resample, shuffle\n",
    "\n",
    "import spacy\n",
    "nlp = spacy.load('en_core_web_sm', disable = ['parser', 'ner'])\n",
    "\n",
    "from sklearn.tree import DecisionTreeClassifier\n",
    "from sklearn.ensemble import RandomForestClassifier\n",
    "from sklearn.linear_model import LogisticRegression\n",
    "from catboost import CatBoostClassifier\n",
    "\n",
    "from tqdm import tqdm\n",
    "from sklearn.feature_extraction.text import TfidfVectorizer\n",
    "from sklearn.model_selection import cross_val_score, GridSearchCV, train_test_split\n",
    "from sklearn.metrics import make_scorer, f1_score\n",
    "\n",
    "from warnings import filterwarnings\n",
    "filterwarnings('ignore')\n",
    "\n",
    "RANDOM_STATE = 12345"
   ]
  },
  {
   "cell_type": "markdown",
   "metadata": {},
   "source": [
    "|Произведем выгрузку данных в переменную `data`."
   ]
  },
  {
   "cell_type": "code",
   "execution_count": 4,
   "metadata": {
    "ExecuteTime": {
     "end_time": "2023-05-03T11:48:25.100366Z",
     "start_time": "2023-05-03T11:48:24.382636Z"
    }
   },
   "outputs": [
    {
     "data": {
      "text/html": [
       "<div>\n",
       "<style scoped>\n",
       "    .dataframe tbody tr th:only-of-type {\n",
       "        vertical-align: middle;\n",
       "    }\n",
       "\n",
       "    .dataframe tbody tr th {\n",
       "        vertical-align: top;\n",
       "    }\n",
       "\n",
       "    .dataframe thead th {\n",
       "        text-align: right;\n",
       "    }\n",
       "</style>\n",
       "<table border=\"1\" class=\"dataframe\">\n",
       "  <thead>\n",
       "    <tr style=\"text-align: right;\">\n",
       "      <th></th>\n",
       "      <th>Unnamed: 0</th>\n",
       "      <th>text</th>\n",
       "      <th>toxic</th>\n",
       "    </tr>\n",
       "  </thead>\n",
       "  <tbody>\n",
       "    <tr>\n",
       "      <th>0</th>\n",
       "      <td>0</td>\n",
       "      <td>Explanation\\nWhy the edits made under my usern...</td>\n",
       "      <td>0</td>\n",
       "    </tr>\n",
       "    <tr>\n",
       "      <th>1</th>\n",
       "      <td>1</td>\n",
       "      <td>D'aww! He matches this background colour I'm s...</td>\n",
       "      <td>0</td>\n",
       "    </tr>\n",
       "    <tr>\n",
       "      <th>2</th>\n",
       "      <td>2</td>\n",
       "      <td>Hey man, I'm really not trying to edit war. It...</td>\n",
       "      <td>0</td>\n",
       "    </tr>\n",
       "    <tr>\n",
       "      <th>3</th>\n",
       "      <td>3</td>\n",
       "      <td>\"\\nMore\\nI can't make any real suggestions on ...</td>\n",
       "      <td>0</td>\n",
       "    </tr>\n",
       "    <tr>\n",
       "      <th>4</th>\n",
       "      <td>4</td>\n",
       "      <td>You, sir, are my hero. Any chance you remember...</td>\n",
       "      <td>0</td>\n",
       "    </tr>\n",
       "  </tbody>\n",
       "</table>\n",
       "</div>"
      ],
      "text/plain": [
       "   Unnamed: 0                                               text  toxic\n",
       "0           0  Explanation\\nWhy the edits made under my usern...      0\n",
       "1           1  D'aww! He matches this background colour I'm s...      0\n",
       "2           2  Hey man, I'm really not trying to edit war. It...      0\n",
       "3           3  \"\\nMore\\nI can't make any real suggestions on ...      0\n",
       "4           4  You, sir, are my hero. Any chance you remember...      0"
      ]
     },
     "execution_count": 4,
     "metadata": {},
     "output_type": "execute_result"
    }
   ],
   "source": [
    "try:\n",
    "    data = pd.read_csv('toxic_comments.csv')\n",
    "except FileExistsError:\n",
    "    data = pd.read_csv('/datasets/toxic_comments.csv')\n",
    "\n",
    "data.head(5)"
   ]
  },
  {
   "cell_type": "markdown",
   "metadata": {},
   "source": [
    "Изучим данные."
   ]
  },
  {
   "cell_type": "code",
   "execution_count": 5,
   "metadata": {
    "ExecuteTime": {
     "end_time": "2023-05-03T11:48:26.044729Z",
     "start_time": "2023-05-03T11:48:25.869355Z"
    }
   },
   "outputs": [
    {
     "name": "stdout",
     "output_type": "stream",
     "text": [
      "<class 'pandas.core.frame.DataFrame'>\n",
      "RangeIndex: 159292 entries, 0 to 159291\n",
      "Data columns (total 3 columns):\n",
      " #   Column      Non-Null Count   Dtype \n",
      "---  ------      --------------   ----- \n",
      " 0   Unnamed: 0  159292 non-null  int64 \n",
      " 1   text        159292 non-null  object\n",
      " 2   toxic       159292 non-null  int64 \n",
      "dtypes: int64(2), object(1)\n",
      "memory usage: 3.6+ MB\n",
      "None \n",
      "\n",
      "Количество дубликатов: 0\n",
      "\n"
     ]
    }
   ],
   "source": [
    "print(\n",
    "    data.info(),\n",
    "    f'\\n\\nКоличество дубликатов: {data.duplicated().sum()}')\n",
    "\n",
    "print()"
   ]
  },
  {
   "cell_type": "markdown",
   "metadata": {},
   "source": [
    "Посмотрим на наличие неявных аномалий, а точнее - присутствие других языков в сообщениях."
   ]
  },
  {
   "cell_type": "markdown",
   "metadata": {},
   "source": [
    "**Промежуточный вывод:**\n",
    "\n",
    "* Пропуски отсутствуют\n",
    "* Дубликаты отсутствуют\n",
    "* Типы данных в столбцах - корректны\n",
    "* Присутствует лишний столбец - `Unnamed: 0`\n"
   ]
  },
  {
   "cell_type": "markdown",
   "metadata": {},
   "source": [
    "Удалим столбец `Unnamed: 0`"
   ]
  },
  {
   "cell_type": "code",
   "execution_count": 6,
   "metadata": {
    "ExecuteTime": {
     "end_time": "2023-05-03T11:48:27.161317Z",
     "start_time": "2023-05-03T11:48:27.143002Z"
    }
   },
   "outputs": [],
   "source": [
    "data = data.drop('Unnamed: 0', axis = 1)"
   ]
  },
  {
   "cell_type": "markdown",
   "metadata": {},
   "source": [
    "### Подготовка данных"
   ]
  },
  {
   "cell_type": "markdown",
   "metadata": {},
   "source": [
    "Перед тем как обучать разные модели необходимо провести `предобработку текста`.\n",
    "\n",
    "\n",
    "Выполним следующие пункты:\n",
    "\n",
    "\n",
    "1. Проверим баланс классов\n",
    "2. Очистка текстов с помощью регулярных выражений.\n",
    "3. Удаление слов с помощью стоп-слов.\n",
    "4. Лемматизация."
   ]
  },
  {
   "cell_type": "markdown",
   "metadata": {},
   "source": [
    "Проверим баланс классов. Напишем функцию для отрисовки круговой диаграммы классов `pie_class`."
   ]
  },
  {
   "cell_type": "code",
   "execution_count": 7,
   "metadata": {
    "ExecuteTime": {
     "end_time": "2023-05-03T11:48:28.332356Z",
     "start_time": "2023-05-03T11:48:28.328275Z"
    }
   },
   "outputs": [],
   "source": [
    "def pie_class(data_class):\n",
    "    plt.figure(figsize=(12, 5))\n",
    "    colors = sns.color_palette('pastel')[0:5]\n",
    "\n",
    "    plt.pie(data_class.value_counts(), colors=colors, labels=['non-toxic', 'toxic'], autopct='%.0f%%')\n",
    "    plt.title('Balance of classes')"
   ]
  },
  {
   "cell_type": "code",
   "execution_count": 8,
   "metadata": {
    "ExecuteTime": {
     "end_time": "2023-05-03T11:48:28.780518Z",
     "start_time": "2023-05-03T11:48:28.622043Z"
    }
   },
   "outputs": [
    {
     "data": {
      "image/png": "[encoded data removed]",
      "text/plain": [
       "<Figure size 1200x500 with 1 Axes>"
      ]
     },
     "metadata": {},
     "output_type": "display_data"
    }
   ],
   "source": [
    "pie_class(data.toxic)"
   ]
  },
  {
   "cell_type": "markdown",
   "metadata": {},
   "source": [
    "Присутствует сильный дисбаланс классов, поэтому выполним `Upsampling`. Решим эту проблему при разделении выборки."
   ]
  },
  {
   "cell_type": "markdown",
   "metadata": {},
   "source": [
    "Выполним пункты `2-4`. Напишем функцию `lemmatize_and_clear_data`."
   ]
  },
  {
   "cell_type": "code",
   "execution_count": 11,
   "metadata": {
    "ExecuteTime": {
     "end_time": "2023-05-03T11:48:46.225290Z",
     "start_time": "2023-05-03T11:48:46.176718Z"
    }
   },
   "outputs": [],
   "source": [
    "def lemmatize_and_clear_data(data):\n",
    "    text =  \"\".join(re.sub('[^a-zA-Z\\']',\n",
    "                           ' ',\n",
    "                           data.text).lower()).split()\n",
    "\n",
    "    words_filtered = []\n",
    "\n",
    "    for w in text:\n",
    "        if w not in stops:\n",
    "            words_filtered.append(w)\n",
    "\n",
    "    doc = nlp(\" \".join(words_filtered))\n",
    "\n",
    "    text_cl_and_lm = \" \".join([token.lemma_ for token in doc]).lower()\n",
    "\n",
    "    return text_cl_and_lm\n"
   ]
  },
  {
   "cell_type": "code",
   "execution_count": 12,
   "metadata": {
    "ExecuteTime": {
     "end_time": "2023-05-03T11:54:51.892773Z",
     "start_time": "2023-05-03T11:48:47.861430Z"
    }
   },
   "outputs": [
    {
     "name": "stderr",
     "output_type": "stream",
     "text": [
      "100%|██████████| 159292/159292 [06:03<00:00, 437.64it/s]\n"
     ]
    }
   ],
   "source": [
    "tqdm.pandas()\n",
    "data.text = data.progress_apply(lemmatize_and_clear_data, axis = 1)"
   ]
  },
  {
   "cell_type": "markdown",
   "metadata": {},
   "source": [
    "Данные успешно очищены и лемматизированны."
   ]
  },
  {
   "cell_type": "markdown",
   "metadata": {},
   "source": [
    "### Векторизация текстов"
   ]
  },
  {
   "cell_type": "markdown",
   "metadata": {},
   "source": [
    "Разделим данные на тренировочную и тествую выборки."
   ]
  },
  {
   "cell_type": "code",
   "execution_count": 13,
   "metadata": {
    "ExecuteTime": {
     "end_time": "2023-05-03T12:06:47.766821Z",
     "start_time": "2023-05-03T12:06:47.723571Z"
    }
   },
   "outputs": [],
   "source": [
    "data_train, data_test = train_test_split(data, test_size=.2, random_state=RANDOM_STATE)"
   ]
  },
  {
   "cell_type": "markdown",
   "metadata": {},
   "source": [
    "Так как у нас был обнаружен диссбаланс классов, выполним `up-sampling` для `data_train`. Напишем функцию up_sample."
   ]
  },
  {
   "cell_type": "code",
   "execution_count": 14,
   "metadata": {
    "ExecuteTime": {
     "end_time": "2023-05-03T12:08:35.347927Z",
     "start_time": "2023-05-03T12:08:35.342571Z"
    }
   },
   "outputs": [],
   "source": [
    "def up_sample(data):\n",
    "    toxic_upsample = resample(data.loc[data.toxic == 1],\n",
    "                              replace=True,\n",
    "                              n_samples=len(data.loc[data.toxic == 0]),\n",
    "                              random_state=RANDOM_STATE)\n",
    "    data = shuffle(\n",
    "        pd.concat([toxic_upsample, data.loc[data.toxic == 0]])\n",
    "    ).reset_index(drop = True)\n",
    "\n",
    "    return data"
   ]
  },
  {
   "cell_type": "code",
   "execution_count": 16,
   "metadata": {
    "ExecuteTime": {
     "end_time": "2023-05-03T12:08:57.631190Z",
     "start_time": "2023-05-03T12:08:57.546595Z"
    }
   },
   "outputs": [],
   "source": [
    "data_train = up_sample(data_train)"
   ]
  },
  {
   "cell_type": "markdown",
   "metadata": {},
   "source": [
    "Для определения тональности определим величины `TF-IDF` как признаки."
   ]
  },
  {
   "cell_type": "code",
   "execution_count": 32,
   "metadata": {
    "ExecuteTime": {
     "end_time": "2023-05-03T13:12:05.052307Z",
     "start_time": "2023-05-03T13:11:59.458778Z"
    }
   },
   "outputs": [],
   "source": [
    "count_tf_idf = TfidfVectorizer()\n",
    "\n",
    "features_data_train = count_tf_idf.fit_transform(data_train.text)\n",
    "target_data_train = data_train.toxic\n",
    "\n",
    "features_data_test = count_tf_idf.transform(data_test.text)\n",
    "target_data_test = data_test.toxic"
   ]
  },
  {
   "cell_type": "markdown",
   "metadata": {},
   "source": [
    "## Обучение разных моделей"
   ]
  },
  {
   "cell_type": "markdown",
   "metadata": {},
   "source": [
    "Подберем наилучшие гиперпараметры для следующих моделей:\n",
    "\n",
    "1. DecisionTreeClassifier\n",
    "2. RandomForestClassifier\n",
    "3. LogisticRegression\n",
    "4. CatBoostClassifier"
   ]
  },
  {
   "cell_type": "markdown",
   "metadata": {},
   "source": [
    "Создадим словари параметров для обучения моделей."
   ]
  },
  {
   "cell_type": "code",
   "execution_count": 23,
   "metadata": {
    "ExecuteTime": {
     "end_time": "2023-05-03T12:55:27.933811Z",
     "start_time": "2023-05-03T12:55:27.892067Z"
    }
   },
   "outputs": [],
   "source": [
    "tree_params = {\n",
    "    'max_depth': [2, 4, 6, 8],\n",
    "    'criterion': ['gini', 'entropy']\n",
    "}\n",
    "\n",
    "forest_params = {\n",
    "    'max_depth': [2, 4, 6, 8],\n",
    "    'n_estimators': [25, 50, 85, 100],\n",
    "    'criterion': ['gini', 'entropy']\n",
    "}\n",
    "\n",
    "logistic_params = {\n",
    "    \"C\": np.logspace(-3,3,7),\n",
    "    \"penalty\": [\"l1\",\"l2\"]}\n",
    "\n",
    "catboost_params = {\n",
    "    'learning_rate': [0.03, 0.1],\n",
    "    'depth': [2, 4, 6]\n",
    "}\n",
    "\n",
    "model_tree = DecisionTreeClassifier(random_state=RANDOM_STATE)\n",
    "model_forest = RandomForestClassifier(random_state=RANDOM_STATE)\n",
    "model_logistic = LogisticRegression(random_state=RANDOM_STATE)\n",
    "model_catboost = CatBoostClassifier(loss_function='Logloss')"
   ]
  },
  {
   "cell_type": "markdown",
   "metadata": {},
   "source": [
    "**Модель DecisionTreeClassifier**"
   ]
  },
  {
   "cell_type": "code",
   "execution_count": 24,
   "metadata": {
    "ExecuteTime": {
     "end_time": "2023-05-03T12:58:29.273950Z",
     "start_time": "2023-05-03T12:55:30.499490Z"
    }
   },
   "outputs": [
    {
     "name": "stdout",
     "output_type": "stream",
     "text": [
      "Best params:\n",
      "{'criterion': 'gini', 'max_depth': 4}\n",
      "Best score: 0.7149926736752908\n"
     ]
    }
   ],
   "source": [
    "grid_tree = GridSearchCV(model_tree, param_grid=tree_params, cv=3, scoring= 'f1')\n",
    "grid_tree.fit(features_data_train, target_data_train)\n",
    "\n",
    "print(f'Best params:\\n{grid_tree.best_params_}\\nBest score: {grid_tree.best_score_}')"
   ]
  },
  {
   "cell_type": "markdown",
   "metadata": {},
   "source": [
    "**Модель RandomForestClassifier**"
   ]
  },
  {
   "cell_type": "code",
   "execution_count": 26,
   "metadata": {
    "ExecuteTime": {
     "end_time": "2023-05-03T13:09:06.771298Z",
     "start_time": "2023-05-03T13:00:28.804057Z"
    }
   },
   "outputs": [
    {
     "name": "stdout",
     "output_type": "stream",
     "text": [
      "Best params:\n",
      "{'criterion': 'gini', 'max_depth': 8, 'n_estimators': 100}\n",
      "Best score: 0.7984318410234877\n"
     ]
    }
   ],
   "source": [
    "grid_forest = GridSearchCV(model_forest, param_grid=forest_params, cv=3, scoring='f1')\n",
    "grid_forest.fit(features_data_train, target_data_train)\n",
    "\n",
    "print(f'Best params:\\n{grid_forest.best_params_}\\nBest score: {grid_forest.best_score_}')"
   ]
  },
  {
   "cell_type": "markdown",
   "metadata": {},
   "source": [
    "**Модель LogisticRegression**"
   ]
  },
  {
   "cell_type": "code",
   "execution_count": 27,
   "metadata": {
    "ExecuteTime": {
     "end_time": "2023-05-03T13:10:15.207224Z",
     "start_time": "2023-05-03T13:09:37.801792Z"
    }
   },
   "outputs": [
    {
     "name": "stdout",
     "output_type": "stream",
     "text": [
      "Best params:\n",
      "{'C': 1000.0, 'penalty': 'l2'}\n",
      "Best score: 0.9797504108487202\n"
     ]
    }
   ],
   "source": [
    "grid_logistic = GridSearchCV(model_logistic, param_grid=logistic_params, cv=3, scoring='f1')\n",
    "grid_logistic.fit(features_data_train, target_data_train)\n",
    "\n",
    "print(f'Best params:\\n{grid_logistic.best_params_}\\nBest score: {grid_logistic.best_score_}')"
   ]
  },
  {
   "cell_type": "markdown",
   "metadata": {},
   "source": [
    "**Модель CatBoostClassifier**"
   ]
  },
  {
   "cell_type": "code",
   "execution_count": 36,
   "metadata": {
    "ExecuteTime": {
     "end_time": "2023-05-03T13:32:31.139507Z",
     "start_time": "2023-05-03T13:13:55.288727Z"
    },
    "scrolled": true
   },
   "outputs": [
    {
     "name": "stdout",
     "output_type": "stream",
     "text": [
      "Best params:\n",
      "{'depth': 2, 'learning_rate': 0.03}\n",
      "Best score: 1.0\n"
     ]
    }
   ],
   "source": [
    "grid_catboost = GridSearchCV(model_catboost, param_grid=catboost_params, cv = 3, scoring='f1')\n",
    "grid_catboost.fit(data_train, target_data_train, verbose = False, text_features=[\"text\"])\n",
    "\n",
    "print(f'Best params:\\n{grid_catboost.best_params_}\\nBest score: {grid_catboost.best_score_}')"
   ]
  },
  {
   "cell_type": "markdown",
   "metadata": {},
   "source": [
    "Построим таблицу качества построенных моделей."
   ]
  },
  {
   "cell_type": "code",
   "execution_count": 37,
   "metadata": {
    "ExecuteTime": {
     "end_time": "2023-05-03T13:35:14.599500Z",
     "start_time": "2023-05-03T13:35:14.556504Z"
    }
   },
   "outputs": [],
   "source": [
    "def print_table(model_name, model_grid):\n",
    "    print('|{: >23}|{: >12}|'.format('Модель', 'f1'))\n",
    "    for model, name in zip(model_grid, model_name):\n",
    "        print('|{: >23}|{: >12.5f}|'.format(name, model.best_score_))"
   ]
  },
  {
   "cell_type": "code",
   "execution_count": 38,
   "metadata": {
    "ExecuteTime": {
     "end_time": "2023-05-03T13:35:15.145488Z",
     "start_time": "2023-05-03T13:35:15.139996Z"
    }
   },
   "outputs": [
    {
     "name": "stdout",
     "output_type": "stream",
     "text": [
      "|                 Модель|          f1|\n",
      "| DecisionTreeClassifier|     0.71499|\n",
      "| RandomForestClassifier|     0.79843|\n",
      "|     LogisticRegression|     0.97975|\n",
      "|     CatBoostClassifier|     1.00000|\n"
     ]
    }
   ],
   "source": [
    "\n",
    "print_table(\n",
    "    list(['DecisionTreeClassifier', 'RandomForestClassifier', 'LogisticRegression','CatBoostClassifier']),\n",
    "    list([grid_tree, grid_forest, grid_logistic, grid_catboost])\n",
    ")"
   ]
  },
  {
   "cell_type": "markdown",
   "metadata": {},
   "source": [
    "**Вывод:**\n",
    "\n",
    "Лучше всех себя показали модели **LogisticRegression** и **CatBoostClassifier**."
   ]
  },
  {
   "cell_type": "markdown",
   "metadata": {},
   "source": [
    "## Тестирование лучшей модели"
   ]
  },
  {
   "cell_type": "markdown",
   "metadata": {},
   "source": [
    "Протестируем модели **LogisticRegression** и **CatBoostClassifier** на тестовой выборке."
   ]
  },
  {
   "cell_type": "code",
   "execution_count": 42,
   "metadata": {
    "ExecuteTime": {
     "end_time": "2023-05-03T13:54:33.499745Z",
     "start_time": "2023-05-03T13:51:57.315856Z"
    }
   },
   "outputs": [
    {
     "name": "stdout",
     "output_type": "stream",
     "text": [
      "Модель LogisticRegression: \n",
      "f1 = 0.749017236165709\n",
      "\n",
      "Модель CatBoostClassifier: \n",
      "f1 = 0.7232813402657422\n"
     ]
    }
   ],
   "source": [
    "model_catboost = CatBoostClassifier(depth = 2, learning_rate = 0.03)\n",
    "model_logistic = LogisticRegression(C = 1000, penalty='l2')\n",
    "\n",
    "model_catboost.fit(features_data_train, target_data_train, verbose = False)\n",
    "model_logistic.fit(features_data_train, target_data_train)\n",
    "\n",
    "print(\n",
    "    f'Модель LogisticRegression: \\n'\n",
    "    f'f1 = {f1_score(target_data_test, model_logistic.predict(features_data_test))}\\n\\n'\n",
    "    f'Модель CatBoostClassifier: \\n'\n",
    "    f'f1 = {f1_score(target_data_test, model_catboost.predict(features_data_test))}'\n",
    ")"
   ]
  },
  {
   "cell_type": "markdown",
   "metadata": {},
   "source": [
    "## Вывод"
   ]
  },
  {
   "cell_type": "markdown",
   "metadata": {},
   "source": [
    "В ходе работы были достигнуты и выполнены следующие пункты:\n",
    "\n",
    "1. Предобработка:\n",
    "\n",
    "* Удален лишний столбец\n",
    "* Устранен дисбаланс классов с помощью функции `up_sample`\n",
    "* Лемматизированы и очищены тексты с помощью написанной функции: `lemmatize_and_clear_data`\n",
    "\n",
    "2. Подбор модели:\n",
    "\n",
    "* С помощью GridSearch подобраны 2 наилучшие модели.\n",
    "\n",
    "3. Тестирование:\n",
    "\n",
    "* Из двух модель выбрана наилучшая, которая показала наивысшее значение на тестовой выборке - 0.75\n",
    "\n",
    "\n",
    "По итогу работы выявлена наилучшая модель - **Модель LogisticRegression**. Следовательно, она лучше остальных предсказывает токсичность комментариев."
   ]
  }
 ],
 "metadata": {
  "kernelspec": {
   "display_name": "Python 3 (ipykernel)",
   "language": "python",
   "name": "python3"
  },
  "language_info": {
   "codemirror_mode": {
    "name": "ipython",
    "version": 3
   },
   "file_extension": ".py",
   "mimetype": "text/x-python",
   "name": "python",
   "nbconvert_exporter": "python",
   "pygments_lexer": "ipython3",
   "version": "3.10.9"
  },
  "toc": {
   "base_numbering": 1,
   "nav_menu": {},
   "number_sections": true,
   "sideBar": true,
   "skip_h1_title": true,
   "title_cell": "Table of Contents",
   "title_sidebar": "Contents",
   "toc_cell": false,
   "toc_position": {},
   "toc_section_display": true,
   "toc_window_display": false
  }
 },
 "nbformat": 4,
 "nbformat_minor": 1
}
